{
 "cells": [
  {
   "cell_type": "markdown",
   "metadata": {},
   "source": [
    "### Loading our model"
   ]
  },
  {
   "cell_type": "code",
   "execution_count": 1,
   "metadata": {},
   "outputs": [
    {
     "name": "stderr",
     "output_type": "stream",
     "text": [
      "Using TensorFlow backend.\n"
     ]
    },
    {
     "name": "stdout",
     "output_type": "stream",
     "text": [
      "WARNING:tensorflow:From C:\\Users\\elton\\Anaconda3\\lib\\site-packages\\tensorflow_core\\python\\ops\\resource_variable_ops.py:1630: calling BaseResourceVariable.__init__ (from tensorflow.python.ops.resource_variable_ops) with constraint is deprecated and will be removed in a future version.\n",
      "Instructions for updating:\n",
      "If using Keras pass *_constraint arguments to layers.\n",
      "WARNING:tensorflow:From C:\\Users\\elton\\Anaconda3\\lib\\site-packages\\keras\\backend\\tensorflow_backend.py:4070: The name tf.nn.max_pool is deprecated. Please use tf.nn.max_pool2d instead.\n",
      "\n",
      "WARNING:tensorflow:From C:\\Users\\elton\\Anaconda3\\lib\\site-packages\\keras\\backend\\tensorflow_backend.py:422: The name tf.global_variables is deprecated. Please use tf.compat.v1.global_variables instead.\n",
      "\n"
     ]
    }
   ],
   "source": [
    "from keras.models import load_model\n",
    "model = load_model('emotion.h5') #this is VGG16\n",
    "#model = load_model('emotion.h5') #this is VGG9 (LittleVGG)"
   ]
  },
  {
   "cell_type": "markdown",
   "metadata": {},
   "source": [
    "### Video analysis output back to video"
   ]
  },
  {
   "cell_type": "code",
   "execution_count": 18,
   "metadata": {},
   "outputs": [
    {
     "name": "stdout",
     "output_type": "stream",
     "text": [
      "Time start:  Sun Mar 29 21:36:12 2020\n",
      "Video duration:  291.81  seconds\n",
      "Video slice interval:  2\n",
      "Creating new video file to: D:/Downloads/y2mate.com - Spark Hire Video_YR8QoADlq0Y_360p_output.mp4\n",
      "csv file saved to  D:/Downloads/y2mate.com - Spark Hire Video_YR8QoADlq0Y_360p/emotion_analysis_video.csv\n",
      "Time end:  Sun Mar 29 21:36:28 2020\n",
      "Completed. Time taken:  00:00:16\n"
     ]
    }
   ],
   "source": [
    "import cv2\n",
    "import numpy as np\n",
    "import pandas as pd\n",
    "from time import sleep\n",
    "from keras.preprocessing.image import img_to_array\n",
    "import imageio\n",
    "import time\n",
    "from tkinter import filedialog\n",
    "from tkinter import *\n",
    "import os\n",
    "import config as cfg\n",
    "import emotion as emo\n",
    "\n",
    "\n",
    "e = emo.emotion\n",
    "df_data = pd.DataFrame()\n",
    "df_data2 = pd.DataFrame()\n",
    "\n",
    "#open file dialog for video file selection\n",
    "root = Tk()\n",
    "root.filename =  filedialog.askopenfilename(initialdir = \"/\",title = \"Select file\",filetypes = ((\"mp4 files\",\"*.mp4\"),(\"all files\",\"*.*\")))\n",
    "fileNameOnly, ext = os.path.splitext(root.filename)\n",
    "filepath = os.path.dirname(root.filename)\n",
    "root.destroy()\n",
    "#print(\"filepath: \", filepath)\n",
    "\n",
    "# creating a new folder name based from selected video file\n",
    "if not os.path.exists(fileNameOnly): \n",
    "    os.makedirs(fileNameOnly) \n",
    "    \n",
    "t0=time.time()\n",
    "print(\"Time start: \", time.asctime(time.localtime(t0)))\n",
    "\n",
    "#read selected video file\n",
    "reader = imageio.get_reader(root.filename)\n",
    "\n",
    "#get the fps\n",
    "fps = reader.get_meta_data()['fps']\n",
    "#print(reader.get_meta_data())\n",
    "duration = reader.get_meta_data()[\"duration\"]\n",
    "print(\"Video duration: \", duration ,\" seconds\")\n",
    "#get second interval based on video's duration\n",
    "sec = e.get_slice_interval(duration)\n",
    "print(\"Video slice interval: \", sec)\n",
    "\n",
    "interval = round(fps)*sec\n",
    "\n",
    "kargs = { 'macro_block_size': None }\n",
    "#writer = imageio.get_writer(fileNameOnly + \"_output\" + ext, **kargs)#fps = fps\n",
    "writer = imageio.get_writer(fileNameOnly + \"_output\" + ext, fps = fps, **kargs)\n",
    "\n",
    "df2=pd.DataFrame()\n",
    "\n",
    "print(\"Creating new video file to: \"+fileNameOnly + \"_output\" + ext)\n",
    "for i, frame in enumerate(reader):\n",
    "    if (i%interval)==0: #frame interval slicing\n",
    "        #face detection\n",
    "        rects, faces, image = e.face_detector(frame)\n",
    "        if np.sum([faces]) != 0.0: #emotion prediction on face detected\n",
    "            frame, df_analysis = e.analyse_emotionVGG9(rects, faces, image, model,\"V\")\n",
    "\n",
    "            #prepare dataframe for concat, and append\n",
    "            df_frame = pd.DataFrame({\"Framenum\":[i]})\n",
    "            df_data = pd.concat([df_frame, df_analysis], axis=1)\n",
    "            df_data2 = df_data2.append(df_data, ignore_index = True)\n",
    "        \n",
    "    frame = image\n",
    "    writer.append_data(frame)\n",
    "\n",
    "#save file, and relase writer obj\n",
    "writer.close()\n",
    "#save df_analysis to a csv file for future processing\n",
    "df_data2.to_csv(fileNameOnly + \"/\" + \"emotion_analysis_video.csv\", index=False)\n",
    "print(\"csv file saved to \", fileNameOnly + \"/\" + \"emotion_analysis_video.csv\")\n",
    "\n",
    "t1= time.time()\n",
    "print(\"Time end: \", time.asctime(time.localtime(t1)))\n",
    "print(\"Completed. Time taken: \", time.strftime(\"%H:%M:%S\", time.gmtime(t1-t0)))"
   ]
  },
  {
   "cell_type": "markdown",
   "metadata": {},
   "source": [
    "### Plot the chart for facial analysis"
   ]
  },
  {
   "cell_type": "code",
   "execution_count": 19,
   "metadata": {},
   "outputs": [
    {
     "data": {
      "text/html": [
       "<div>\n",
       "<style scoped>\n",
       "    .dataframe tbody tr th:only-of-type {\n",
       "        vertical-align: middle;\n",
       "    }\n",
       "\n",
       "    .dataframe tbody tr th {\n",
       "        vertical-align: top;\n",
       "    }\n",
       "\n",
       "    .dataframe thead th {\n",
       "        text-align: right;\n",
       "    }\n",
       "</style>\n",
       "<table border=\"1\" class=\"dataframe\">\n",
       "  <thead>\n",
       "    <tr style=\"text-align: right;\">\n",
       "      <th></th>\n",
       "      <th>Framenum</th>\n",
       "      <th>Predictions</th>\n",
       "      <th>Pred_Mapping</th>\n",
       "    </tr>\n",
       "  </thead>\n",
       "  <tbody>\n",
       "    <tr>\n",
       "      <th>0</th>\n",
       "      <td>0</td>\n",
       "      <td>Neutral</td>\n",
       "      <td>0</td>\n",
       "    </tr>\n",
       "    <tr>\n",
       "      <th>1</th>\n",
       "      <td>48</td>\n",
       "      <td>Sad</td>\n",
       "      <td>-2</td>\n",
       "    </tr>\n",
       "    <tr>\n",
       "      <th>2</th>\n",
       "      <td>96</td>\n",
       "      <td>Surprise</td>\n",
       "      <td>2</td>\n",
       "    </tr>\n",
       "    <tr>\n",
       "      <th>3</th>\n",
       "      <td>144</td>\n",
       "      <td>Surprise</td>\n",
       "      <td>2</td>\n",
       "    </tr>\n",
       "    <tr>\n",
       "      <th>4</th>\n",
       "      <td>192</td>\n",
       "      <td>Neutral</td>\n",
       "      <td>0</td>\n",
       "    </tr>\n",
       "    <tr>\n",
       "      <th>5</th>\n",
       "      <td>240</td>\n",
       "      <td>Sad</td>\n",
       "      <td>-2</td>\n",
       "    </tr>\n",
       "    <tr>\n",
       "      <th>6</th>\n",
       "      <td>288</td>\n",
       "      <td>Surprise</td>\n",
       "      <td>2</td>\n",
       "    </tr>\n",
       "    <tr>\n",
       "      <th>7</th>\n",
       "      <td>336</td>\n",
       "      <td>Surprise</td>\n",
       "      <td>2</td>\n",
       "    </tr>\n",
       "    <tr>\n",
       "      <th>8</th>\n",
       "      <td>432</td>\n",
       "      <td>Happy</td>\n",
       "      <td>1</td>\n",
       "    </tr>\n",
       "    <tr>\n",
       "      <th>9</th>\n",
       "      <td>480</td>\n",
       "      <td>Surprise</td>\n",
       "      <td>2</td>\n",
       "    </tr>\n",
       "  </tbody>\n",
       "</table>\n",
       "</div>"
      ],
      "text/plain": [
       "   Framenum Predictions  Pred_Mapping\n",
       "0         0     Neutral             0\n",
       "1        48         Sad            -2\n",
       "2        96    Surprise             2\n",
       "3       144    Surprise             2\n",
       "4       192     Neutral             0\n",
       "5       240         Sad            -2\n",
       "6       288    Surprise             2\n",
       "7       336    Surprise             2\n",
       "8       432       Happy             1\n",
       "9       480    Surprise             2"
      ]
     },
     "execution_count": 19,
     "metadata": {},
     "output_type": "execute_result"
    }
   ],
   "source": [
    "### Plot the chart or facial analysis\n",
    "import pandas as pd\n",
    "import seaborn as sns\n",
    "import matplotlib.pyplot as plt\n",
    "%matplotlib inline\n",
    "\n",
    "data = pd.read_csv(fileNameOnly+\"/\"+\"emotion_analysis_video.csv\")\n",
    "#data = pd.read_csv(\"../data/Ravdess_Version2/emotion_analysis_video.csv\")\n",
    "data.drop([\"Angry\", \"Disgust\", \"Fear\", \"Happy\", \"Neutral\", \"Sad\", \"Surprise\"], axis=\"columns\", inplace=True)\n",
    "data.head(10)"
   ]
  },
  {
   "cell_type": "code",
   "execution_count": 20,
   "metadata": {},
   "outputs": [
    {
     "name": "stdout",
     "output_type": "stream",
     "text": [
      "Completed. Time taken:  00:01:09\n"
     ]
    },
    {
     "data": {
      "image/png": "[encoded data removed]",
      "text/plain": [
       "<Figure size 1440x720 with 3 Axes>"
      ]
     },
     "metadata": {
      "needs_background": "light"
     },
     "output_type": "display_data"
    }
   ],
   "source": [
    "t0=time.time()\n",
    "\n",
    "fig,(ax1,ax2, ax3)= plt.subplots(nrows=3)\n",
    "fig.set_size_inches(20,10)\n",
    "\n",
    "#sns.countplot(y=\"Predictions\", data=data, color=\"c\", ax=ax1)\n",
    "sns.countplot(x=\"Predictions\", data=data, ax=ax1) #color=\"c\", \n",
    "sns.stripplot(x=\"Framenum\", y=\"Pred_Mapping\", data=data, hue=\"Predictions\", ax=ax2)\n",
    "#sns.boxplot(x=\"Framenum\", y=\"Predictions\", hue=\"Predictions\", data=data, ax=ax2)\n",
    "#sns.jointplot(x=\"Framenum\", y=\"Predictions_num\", data=data, kind=\"scatter\", color=\"#4CB391\", ax=ax2)\n",
    "\n",
    "plt.plot(\"Framenum\", \"Pred_Mapping\", data=data, marker='o')#, color='mediumvioletred')\n",
    "\n",
    "t1=time.time()\n",
    "print(\"Completed. Time taken: \", time.strftime(\"%H:%M:%S\", time.gmtime(t1-t0)))"
   ]
  },
  {
   "cell_type": "markdown",
   "metadata": {},
   "source": [
    "### Emotion Analysis"
   ]
  },
  {
   "cell_type": "code",
   "execution_count": 21,
   "metadata": {},
   "outputs": [
    {
     "data": {
      "text/html": [
       "<div>\n",
       "<style scoped>\n",
       "    .dataframe tbody tr th:only-of-type {\n",
       "        vertical-align: middle;\n",
       "    }\n",
       "\n",
       "    .dataframe tbody tr th {\n",
       "        vertical-align: top;\n",
       "    }\n",
       "\n",
       "    .dataframe thead th {\n",
       "        text-align: right;\n",
       "    }\n",
       "</style>\n",
       "<table border=\"1\" class=\"dataframe\">\n",
       "  <thead>\n",
       "    <tr style=\"text-align: right;\">\n",
       "      <th></th>\n",
       "      <th>Framenum</th>\n",
       "      <th>Predictions</th>\n",
       "      <th>Pred_Mapping</th>\n",
       "    </tr>\n",
       "  </thead>\n",
       "  <tbody>\n",
       "    <tr>\n",
       "      <th>125</th>\n",
       "      <td>6720</td>\n",
       "      <td>Surprise</td>\n",
       "      <td>2</td>\n",
       "    </tr>\n",
       "    <tr>\n",
       "      <th>126</th>\n",
       "      <td>6768</td>\n",
       "      <td>Neutral</td>\n",
       "      <td>0</td>\n",
       "    </tr>\n",
       "    <tr>\n",
       "      <th>127</th>\n",
       "      <td>6816</td>\n",
       "      <td>Surprise</td>\n",
       "      <td>2</td>\n",
       "    </tr>\n",
       "    <tr>\n",
       "      <th>128</th>\n",
       "      <td>6864</td>\n",
       "      <td>Surprise</td>\n",
       "      <td>2</td>\n",
       "    </tr>\n",
       "    <tr>\n",
       "      <th>129</th>\n",
       "      <td>6960</td>\n",
       "      <td>Surprise</td>\n",
       "      <td>2</td>\n",
       "    </tr>\n",
       "  </tbody>\n",
       "</table>\n",
       "</div>"
      ],
      "text/plain": [
       "     Framenum Predictions  Pred_Mapping\n",
       "125      6720    Surprise             2\n",
       "126      6768     Neutral             0\n",
       "127      6816    Surprise             2\n",
       "128      6864    Surprise             2\n",
       "129      6960    Surprise             2"
      ]
     },
     "execution_count": 21,
     "metadata": {},
     "output_type": "execute_result"
    }
   ],
   "source": [
    "data[-5:]"
   ]
  },
  {
   "cell_type": "code",
   "execution_count": 6,
   "metadata": {},
   "outputs": [],
   "source": [
    "# #dataframe slicin\n",
    "# print(len(data))\n",
    "# print(round(len(data)/3))\n",
    "# df_1st_slice = data[:round(len(data)/3)-1]\n",
    "# df_2nd_slice = data[round(len(data)/3):round(len(data)/3)*2-1]\n",
    "# df_3rd_slice = data[round(len(data)/3)*2:]\n",
    "# print(df_1st_slice.shape)\n",
    "# print(df_2nd_slice.shape)\n",
    "# print(df_3rd_slice.shape)\n",
    "# print(df_1st_slice.shape[0]+df_3rd_slice.shape[0]+df_3rd_slice.shape[0])"
   ]
  },
  {
   "cell_type": "code",
   "execution_count": 22,
   "metadata": {},
   "outputs": [
    {
     "name": "stdout",
     "output_type": "stream",
     "text": [
      "Video duration: 291.81 seconds\n",
      "Video analysis taken in interval of: 2 second(s)\n",
      "There are 130 data points analysed.\n",
      "\n",
      "The top 3 emotions exhibited by the subject in descending order are: Neutral (0.55%), Surprise (0.38%), Sad (0.06%)\n",
      "\n",
      "It appears that the subject is not emotionally stable.\n",
      "In the 1st third of the video, subject exhibited emotions of  Surprise ( 2 ) and Sad ( -2 ).\n",
      "In the middle section of the video, subject exhibited emotions of  Surprise ( 2 ) and Sad ( -2 ).\n",
      "In the last third of the video, subject exhibited emotions of  Surprise ( 2 ) and Sad ( -2 ).\n",
      "It was only towards the end of the session (last 5 seconds) that subject turns emotionally stable, ranging from Surprise ( 2 ) and Neutral ( 0 ).\n"
     ]
    }
   ],
   "source": [
    "map=cfg.pos_neg_mapping\n",
    "\n",
    "#spilt dataframe into 3 section\n",
    "df_1st_slice = data[:round(len(data)/3)-1]\n",
    "df_2nd_slice = data[round(len(data)/3):round(len(data)/3)*2-1]\n",
    "df_3rd_slice = data[round(len(data)/3)*2:]\n",
    "df_last5_slice = data[-5:]\n",
    "\n",
    "print(\"Video duration:\", duration, \"seconds\")\n",
    "print(\"Video analysis taken in interval of:\", sec, \"second(s)\")\n",
    "print(\"There are\", len(data), \"data points analysed.\")\n",
    "\n",
    "#print(\"Most of the time, subject is feeling\", data.Predictions.value_counts().index[0],\".\\n\")#, data.Predictions.value_counts().index.tolist()[1:])\n",
    "count=0\n",
    "text=\"\"\n",
    "for i in data.Predictions.value_counts().index.tolist()[:3]:\n",
    "    #print(data.Predictions.value_counts().index[count],\" (%1.2f%%\" %data.Predictions.value_counts(1)[count],\")\")\n",
    "    text = text + str(data.Predictions.value_counts().index[count]) + \" (%1.2f%%\" %data.Predictions.value_counts(1)[count] + \")\"\n",
    "    if count!=2:\n",
    "        text = text + \", \"\n",
    "    count+=1\n",
    "\n",
    "print(\"\\nThe top 3 emotions exhibited by the subject in descending order are:\", text)\n",
    "\n",
    "minimum = data.Pred_Mapping.min()\n",
    "maximum = data.Pred_Mapping.max()\n",
    "\n",
    "if minimum!=maximum:#there is a min and a max, thus fluatation = True\n",
    "    if minimum>=0:#fluctation within the positive range\n",
    "        print(\"Subject appears to be in a postive emotion range.\")\n",
    "    #check if there is any negative (we call neg extreme emotion fluctation)\n",
    "    elif minimum<0:#fluctation from positive to negative range\n",
    "        print(\"\\nIt appears that the subject is not emotionally stable.\")\n",
    "#         print(\"There is fluctuation between\", list(map.keys())[list(map.values()).index(data.Pred_Mapping.max())],\"(\", \n",
    "#           data.Pred_Mapping.max(), \")\", \"and\", list(map.keys())[list(map.values()).index(data.Pred_Mapping.min())],\"(\",data.Pred_Mapping.min(), \").\")\n",
    "#         print(\"Occurence of\", list(map.keys())[list(map.values()).index(data.Pred_Mapping.min())],\"at the following frame number:\")        \n",
    "        \n",
    "#         #query for the lowest neg emotion\n",
    "#         df_min = data.query(\"Pred_Mapping==\"+ str(minimum))\n",
    "\n",
    "#         counter=0\n",
    "#         text=\"\"\n",
    "#         while counter < len(df_min):\n",
    "#             #print(df_min.Framenum.iloc[counter])\n",
    "#             text= text + str(df_min.Framenum.iloc[counter]) \n",
    "#             counter+=1\n",
    "#             if counter != len(df_min):#not at the last item, then append comma \",\"\n",
    "#                 text = text +\",\"\n",
    "    \n",
    "#         print(text)\n",
    "        \n",
    "        #1st section analysis - \n",
    "        minimum_1st_third = df_1st_slice.Pred_Mapping.min()\n",
    "        maximum_1st_third = df_1st_slice.Pred_Mapping.max()\n",
    "        if minimum_1st_third!=maximum_1st_third: #there is a min and a max, thus fluatation = True\n",
    "            if minimum_1st_third < 0: #fluctation from positive to negative range\n",
    "                print(\"In the 1st third of the video, subject exhibited emotions of \", list(map.keys())[list(map.values()).index(df_1st_slice.Pred_Mapping.max())],\"(\", \n",
    "          df_1st_slice.Pred_Mapping.max(), \")\", \"and\", list(map.keys())[list(map.values()).index(df_1st_slice.Pred_Mapping.min())],\"(\",df_1st_slice.Pred_Mapping.min(), \").\")\n",
    "        \n",
    "        #2nd section analysis - \n",
    "        minimum_2nd_third = df_2nd_slice.Pred_Mapping.min()\n",
    "        maximum_2nd_third = df_2nd_slice.Pred_Mapping.max()\n",
    "        if minimum_2nd_third!=maximum_2nd_third: #there is a min and a max, thus fluatation = True\n",
    "            if minimum_2nd_third < 0: #fluctation from positive to negative range\n",
    "                print(\"In the middle section of the video, subject exhibited emotions of \", list(map.keys())[list(map.values()).index(df_2nd_slice.Pred_Mapping.max())],\"(\", \n",
    "          df_2nd_slice.Pred_Mapping.max(), \")\", \"and\", list(map.keys())[list(map.values()).index(df_2nd_slice.Pred_Mapping.min())],\"(\",df_2nd_slice.Pred_Mapping.min(), \").\")\n",
    "\n",
    "        #3rd section analysis - \n",
    "        minimum_3rd_third = df_3rd_slice.Pred_Mapping.min()\n",
    "        maximum_3rd_third = df_3rd_slice.Pred_Mapping.max()\n",
    "        if minimum_3rd_third!=maximum_3rd_third: #there is a min and a max, thus fluatation = True\n",
    "            if minimum_3rd_third < 0: #fluctation from positive to negative range\n",
    "                print(\"In the last third of the video, subject exhibited emotions of \", list(map.keys())[list(map.values()).index(df_3rd_slice.Pred_Mapping.max())],\"(\", \n",
    "          df_3rd_slice.Pred_Mapping.max(), \")\", \"and\", list(map.keys())[list(map.values()).index(df_3rd_slice.Pred_Mapping.min())],\"(\",df_3rd_slice.Pred_Mapping.min(), \").\")\n",
    "                \n",
    "        #last 5 seconds\n",
    "        df_last5_slice\n",
    "        minimum_last5 = df_last5_slice.Pred_Mapping.min()\n",
    "        maximum_last5 = df_last5_slice.Pred_Mapping.max()\n",
    "        if minimum_last5!=maximum_last5: #there is a min and a max, thus fluatation = True\n",
    "            if minimum_last5 >= 0: #fluctation within positive range\n",
    "                print(\"It was only towards the end of the session (last 5 seconds) that subject turns emotionally stable, ranging from\", list(map.keys())[list(map.values()).index(df_last5_slice.Pred_Mapping.max())],\"(\", \n",
    "          df_last5_slice.Pred_Mapping.max(), \")\", \"and\", list(map.keys())[list(map.values()).index(df_last5_slice.Pred_Mapping.min())],\"(\",df_last5_slice.Pred_Mapping.min(), \").\")\n",
    "\n",
    "            if minimum_last5 < 0: #fluctation from positive to negative range\n",
    "                print(\"Towards the end of the session (last 5 seconds), subject is still not emotionally stable, ranging from\", list(map.keys())[list(map.values()).index(df_last5_slice.Pred_Mapping.max())],\"(\", \n",
    "          df_last5_slice.Pred_Mapping.max(), \")\", \"and\", list(map.keys())[list(map.values()).index(df_last5_slice.Pred_Mapping.min())],\"(\",df_last5_slice.Pred_Mapping.min(), \").\")\n",
    "                \n",
    "    \n"
   ]
  },
  {
   "cell_type": "code",
   "execution_count": 8,
   "metadata": {},
   "outputs": [],
   "source": [
    "# import config as cfg\n",
    "# duration=220\n",
    "# sec=1"
   ]
  },
  {
   "cell_type": "markdown",
   "metadata": {},
   "source": [
    "Video duration: 48.26 seconds<br>\n",
    "Video frame analysis taken in interval of: 1 seconds<br>\n",
    "There are 49 data points analysed.<br>\n",
    "\n",
    "The top 3 emotions exhibited by the subject in descending order are surprise (XX% of the      time), neutral (XX%) and sad (XX%)\n",
    "<br><br>\n",
    "Assuming that this is a video resume, it appears that the subject is not emotionally stable.    He/She exhibited wild swings of emotions between surprise and sad throughout the first      two-thirds of the interview. Around the middle of the interview, there were also instances  where he/she appeared angry. It was only towards the end of the session that he/she                       became more emotionally stable\n",
    "\n"
   ]
  }
 ],
 "metadata": {
  "kernelspec": {
   "display_name": "Python 3",
   "language": "python",
   "name": "python3"
  },
  "language_info": {
   "codemirror_mode": {
    "name": "ipython",
    "version": 3
   },
   "file_extension": ".py",
   "mimetype": "text/x-python",
   "name": "python",
   "nbconvert_exporter": "python",
   "pygments_lexer": "ipython3",
   "version": "3.7.4"
  }
 },
 "nbformat": 4,
 "nbformat_minor": 4
}
