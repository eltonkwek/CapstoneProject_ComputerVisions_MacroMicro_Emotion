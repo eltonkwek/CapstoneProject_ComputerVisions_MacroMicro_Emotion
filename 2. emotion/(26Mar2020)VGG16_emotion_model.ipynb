{
 "cells": [
  {
   "cell_type": "markdown",
   "metadata": {},
   "source": [
    "### VGG16 - Emotion Detection (Transfer Learning)\n",
    "\n",
    "### Loading the VGG16 Model"
   ]
  },
  {
   "cell_type": "code",
   "execution_count": 11,
   "metadata": {},
   "outputs": [],
   "source": [
    "from keras.applications import VGG16\n",
    "\n",
    "# VGG16 was designed to work on 224 x 224 pixel input images sizes but we will resize it to 48x48 to make it work faster\n",
    "img_rows = 48\n",
    "img_cols = 48 \n",
    "\n",
    "#Loads the VGG16 model \n",
    "vgg16 = VGG16(weights = 'imagenet', \n",
    "                 include_top = False, \n",
    "                 input_shape = (img_rows, img_cols, 3))"
   ]
  },
  {
   "cell_type": "markdown",
   "metadata": {},
   "source": [
    "### Inpsecting each layer"
   ]
  },
  {
   "cell_type": "code",
   "execution_count": 12,
   "metadata": {},
   "outputs": [
    {
     "name": "stdout",
     "output_type": "stream",
     "text": [
      "0 InputLayer False\n",
      "1 Conv2D True\n",
      "2 Conv2D True\n",
      "3 MaxPooling2D True\n",
      "4 Conv2D True\n",
      "5 Conv2D True\n",
      "6 MaxPooling2D True\n",
      "7 Conv2D True\n",
      "8 Conv2D True\n",
      "9 Conv2D True\n",
      "10 MaxPooling2D True\n",
      "11 Conv2D True\n",
      "12 Conv2D True\n",
      "13 Conv2D True\n",
      "14 MaxPooling2D True\n",
      "15 Conv2D True\n",
      "16 Conv2D True\n",
      "17 Conv2D True\n",
      "18 MaxPooling2D True\n"
     ]
    }
   ],
   "source": [
    "# Let's print our layers \n",
    "for (i,layer) in enumerate(vgg16.layers):\n",
    "    print(str(i) + \" \"+ layer.__class__.__name__, layer.trainable)"
   ]
  },
  {
   "cell_type": "markdown",
   "metadata": {},
   "source": [
    "### Let's freeze all layers except the top 4 "
   ]
  },
  {
   "cell_type": "code",
   "execution_count": 13,
   "metadata": {},
   "outputs": [
    {
     "name": "stdout",
     "output_type": "stream",
     "text": [
      "0 InputLayer False\n",
      "1 Conv2D False\n",
      "2 Conv2D False\n",
      "3 MaxPooling2D False\n",
      "4 Conv2D False\n",
      "5 Conv2D False\n",
      "6 MaxPooling2D False\n",
      "7 Conv2D False\n",
      "8 Conv2D False\n",
      "9 Conv2D False\n",
      "10 MaxPooling2D False\n",
      "11 Conv2D False\n",
      "12 Conv2D False\n",
      "13 Conv2D False\n",
      "14 MaxPooling2D False\n",
      "15 Conv2D False\n",
      "16 Conv2D False\n",
      "17 Conv2D False\n",
      "18 MaxPooling2D False\n"
     ]
    }
   ],
   "source": [
    "from keras.applications import VGG16\n",
    "\n",
    "# VGG16 was designed to work on 224 x 224 pixel input images sizes\n",
    "img_rows = 48\n",
    "img_cols = 48 \n",
    "\n",
    "# Re-loads the VGG16 model without the top or FC layers\n",
    "vgg16 = VGG16(weights = 'imagenet', \n",
    "                 include_top = False, \n",
    "                 input_shape = (img_rows, img_cols, 3))\n",
    "\n",
    "# Here we freeze the last 4 layers \n",
    "# Layers are set to trainable as True by default\n",
    "for layer in vgg16.layers:\n",
    "    layer.trainable = False\n",
    "    \n",
    "# Let's print our layers \n",
    "for (i,layer) in enumerate(vgg16.layers):\n",
    "    print(str(i) + \" \"+ layer.__class__.__name__, layer.trainable)"
   ]
  },
  {
   "cell_type": "markdown",
   "metadata": {},
   "source": [
    "### Let's make a function that returns our FC Head"
   ]
  },
  {
   "cell_type": "code",
   "execution_count": 14,
   "metadata": {},
   "outputs": [],
   "source": [
    "def addTopModel(bottom_model, num_classes, D=256):\n",
    "    \"\"\"creates the top or head of the model that will be \n",
    "    placed ontop of the bottom layers\"\"\"\n",
    "    top_model = bottom_model.output\n",
    "    top_model = Flatten(name = \"flatten\")(top_model)\n",
    "    top_model = Dense(D, activation = \"relu\")(top_model)\n",
    "    top_model = Dropout(0.3)(top_model)\n",
    "    top_model = Dense(num_classes, activation = \"softmax\")(top_model)\n",
    "    return top_model"
   ]
  },
  {
   "cell_type": "markdown",
   "metadata": {},
   "source": [
    "### Let's add our FC Head back onto VGG"
   ]
  },
  {
   "cell_type": "code",
   "execution_count": 15,
   "metadata": {},
   "outputs": [
    {
     "name": "stdout",
     "output_type": "stream",
     "text": [
      "Model: \"model_2\"\n",
      "_________________________________________________________________\n",
      "Layer (type)                 Output Shape              Param #   \n",
      "=================================================================\n",
      "input_4 (InputLayer)         (None, 48, 48, 3)         0         \n",
      "_________________________________________________________________\n",
      "block1_conv1 (Conv2D)        (None, 48, 48, 64)        1792      \n",
      "_________________________________________________________________\n",
      "block1_conv2 (Conv2D)        (None, 48, 48, 64)        36928     \n",
      "_________________________________________________________________\n",
      "block1_pool (MaxPooling2D)   (None, 24, 24, 64)        0         \n",
      "_________________________________________________________________\n",
      "block2_conv1 (Conv2D)        (None, 24, 24, 128)       73856     \n",
      "_________________________________________________________________\n",
      "block2_conv2 (Conv2D)        (None, 24, 24, 128)       147584    \n",
      "_________________________________________________________________\n",
      "block2_pool (MaxPooling2D)   (None, 12, 12, 128)       0         \n",
      "_________________________________________________________________\n",
      "block3_conv1 (Conv2D)        (None, 12, 12, 256)       295168    \n",
      "_________________________________________________________________\n",
      "block3_conv2 (Conv2D)        (None, 12, 12, 256)       590080    \n",
      "_________________________________________________________________\n",
      "block3_conv3 (Conv2D)        (None, 12, 12, 256)       590080    \n",
      "_________________________________________________________________\n",
      "block3_pool (MaxPooling2D)   (None, 6, 6, 256)         0         \n",
      "_________________________________________________________________\n",
      "block4_conv1 (Conv2D)        (None, 6, 6, 512)         1180160   \n",
      "_________________________________________________________________\n",
      "block4_conv2 (Conv2D)        (None, 6, 6, 512)         2359808   \n",
      "_________________________________________________________________\n",
      "block4_conv3 (Conv2D)        (None, 6, 6, 512)         2359808   \n",
      "_________________________________________________________________\n",
      "block4_pool (MaxPooling2D)   (None, 3, 3, 512)         0         \n",
      "_________________________________________________________________\n",
      "block5_conv1 (Conv2D)        (None, 3, 3, 512)         2359808   \n",
      "_________________________________________________________________\n",
      "block5_conv2 (Conv2D)        (None, 3, 3, 512)         2359808   \n",
      "_________________________________________________________________\n",
      "block5_conv3 (Conv2D)        (None, 3, 3, 512)         2359808   \n",
      "_________________________________________________________________\n",
      "block5_pool (MaxPooling2D)   (None, 1, 1, 512)         0         \n",
      "_________________________________________________________________\n",
      "flatten (Flatten)            (None, 512)               0         \n",
      "_________________________________________________________________\n",
      "dense_3 (Dense)              (None, 256)               131328    \n",
      "_________________________________________________________________\n",
      "dropout_2 (Dropout)          (None, 256)               0         \n",
      "_________________________________________________________________\n",
      "dense_4 (Dense)              (None, 7)                 1799      \n",
      "=================================================================\n",
      "Total params: 14,847,815\n",
      "Trainable params: 133,127\n",
      "Non-trainable params: 14,714,688\n",
      "_________________________________________________________________\n",
      "None\n"
     ]
    }
   ],
   "source": [
    "from keras.models import Sequential\n",
    "from keras.layers import Dense, Dropout, Activation, Flatten\n",
    "from keras.layers import Conv2D, MaxPooling2D, ZeroPadding2D\n",
    "from keras.layers.normalization import BatchNormalization\n",
    "from keras.models import Model\n",
    "\n",
    "num_classes = 7\n",
    "\n",
    "FC_Head = addTopModel(vgg16, num_classes)\n",
    "\n",
    "model = Model(inputs=vgg16.input, outputs=FC_Head)\n",
    "\n",
    "print(model.summary())"
   ]
  },
  {
   "cell_type": "markdown",
   "metadata": {},
   "source": [
    "### Loading our Flowers Dataset"
   ]
  },
  {
   "cell_type": "code",
   "execution_count": 16,
   "metadata": {},
   "outputs": [
    {
     "name": "stdout",
     "output_type": "stream",
     "text": [
      "Found 62348 images belonging to 7 classes.\n",
      "Found 5743 images belonging to 7 classes.\n"
     ]
    }
   ],
   "source": [
    "from keras.preprocessing.image import ImageDataGenerator\n",
    "\n",
    "train_data_dir = 'C:/Users/elton/Google Drive/AI Course/Capstone Project/emotion/data/fer2013/train'\n",
    "validation_data_dir = 'C:/Users/elton/Google Drive/AI Course/Capstone Project/emotion/data/fer2013/validation'\n",
    "\n",
    "train_datagen = ImageDataGenerator(\n",
    "      rescale=1./255,\n",
    "      rotation_range=20,\n",
    "      width_shift_range=0.2,\n",
    "      height_shift_range=0.2,\n",
    "      horizontal_flip=True,\n",
    "      fill_mode='nearest')\n",
    " \n",
    "validation_datagen = ImageDataGenerator(rescale=1./255)\n",
    " \n",
    "# Change the batchsize according to your system RAM\n",
    "train_batchsize = 1000\n",
    "val_batchsize = 1000\n",
    "#train_batchsize = 16\n",
    "#val_batchsize = 10\n",
    " \n",
    "train_generator = train_datagen.flow_from_directory(\n",
    "        train_data_dir,\n",
    "        target_size=(img_rows, img_cols),\n",
    "        batch_size=train_batchsize,\n",
    "        class_mode='categorical')\n",
    " \n",
    "validation_generator = validation_datagen.flow_from_directory(\n",
    "        validation_data_dir,\n",
    "        target_size=(img_rows, img_cols),\n",
    "        batch_size=val_batchsize,\n",
    "        class_mode='categorical',\n",
    "        shuffle=False)"
   ]
  },
  {
   "cell_type": "markdown",
   "metadata": {},
   "source": [
    "### Training our top layers"
   ]
  },
  {
   "cell_type": "code",
   "execution_count": 17,
   "metadata": {},
   "outputs": [
    {
     "name": "stdout",
     "output_type": "stream",
     "text": [
      "Epoch 1/100\n",
      "62/62 [==============================] - 85s 1s/step - loss: 1.8903 - accuracy: 0.2301 - val_loss: 1.7639 - val_accuracy: 0.2696\n",
      "Epoch 2/100\n",
      "62/62 [==============================] - 83s 1s/step - loss: 1.8075 - accuracy: 0.2778 - val_loss: 1.9258 - val_accuracy: 0.3163\n",
      "Epoch 3/100\n",
      "62/62 [==============================] - 84s 1s/step - loss: 1.7840 - accuracy: 0.2932 - val_loss: 1.6563 - val_accuracy: 0.3439\n",
      "Epoch 4/100\n",
      "62/62 [==============================] - 80s 1s/step - loss: 1.7722 - accuracy: 0.2989 - val_loss: 1.8255 - val_accuracy: 0.2888\n",
      "Epoch 5/100\n",
      "62/62 [==============================] - 79s 1s/step - loss: 1.7607 - accuracy: 0.3077 - val_loss: 1.6118 - val_accuracy: 0.3152\n",
      "Epoch 6/100\n",
      "62/62 [==============================] - 82s 1s/step - loss: 1.7562 - accuracy: 0.3079 - val_loss: 1.4752 - val_accuracy: 0.2891\n",
      "Epoch 7/100\n",
      "62/62 [==============================] - 87s 1s/step - loss: 1.7474 - accuracy: 0.3141 - val_loss: 1.5578 - val_accuracy: 0.3064\n",
      "Epoch 8/100\n",
      "62/62 [==============================] - 79s 1s/step - loss: 1.7402 - accuracy: 0.3172 - val_loss: 1.9031 - val_accuracy: 0.3487\n",
      "Epoch 9/100\n",
      "62/62 [==============================] - 81s 1s/step - loss: 1.7360 - accuracy: 0.3180 - val_loss: 1.6222 - val_accuracy: 0.3494\n",
      "Epoch 10/100\n",
      "62/62 [==============================] - 88s 1s/step - loss: 1.7315 - accuracy: 0.3228 - val_loss: 1.8191 - val_accuracy: 0.2958\n",
      "Epoch 11/100\n",
      "62/62 [==============================] - 81s 1s/step - loss: 1.7296 - accuracy: 0.3215 - val_loss: 1.5325 - val_accuracy: 0.3629\n",
      "Epoch 12/100\n",
      "62/62 [==============================] - 81s 1s/step - loss: 1.7252 - accuracy: 0.3255 - val_loss: 1.4543 - val_accuracy: 0.3095\n",
      "Epoch 13/100\n",
      "62/62 [==============================] - 83s 1s/step - loss: 1.7213 - accuracy: 0.3272 - val_loss: 1.6842 - val_accuracy: 0.3040\n",
      "Epoch 14/100\n",
      "62/62 [==============================] - 87s 1s/step - loss: 1.7159 - accuracy: 0.3296 - val_loss: 1.9928 - val_accuracy: 0.3464\n",
      "Epoch 15/100\n",
      "62/62 [==============================] - 84s 1s/step - loss: 1.7142 - accuracy: 0.3299 - val_loss: 1.6556 - val_accuracy: 0.3797\n",
      "Epoch 16/100\n",
      "62/62 [==============================] - 84s 1s/step - loss: 1.7103 - accuracy: 0.3349 - val_loss: 1.8668 - val_accuracy: 0.3203\n",
      "Epoch 17/100\n",
      "62/62 [==============================] - 84s 1s/step - loss: 1.7082 - accuracy: 0.3333 - val_loss: 1.6510 - val_accuracy: 0.3673\n",
      "Epoch 18/100\n",
      "62/62 [==============================] - 83s 1s/step - loss: 1.7063 - accuracy: 0.3343 - val_loss: 1.5301 - val_accuracy: 0.2935\n",
      "Epoch 19/100\n",
      "62/62 [==============================] - 81s 1s/step - loss: 1.7037 - accuracy: 0.3358 - val_loss: 1.5661 - val_accuracy: 0.3162\n",
      "Epoch 20/100\n",
      "62/62 [==============================] - 86s 1s/step - loss: 1.6998 - accuracy: 0.3379 - val_loss: 2.0888 - val_accuracy: 0.3491\n",
      "Epoch 21/100\n",
      "62/62 [==============================] - 86s 1s/step - loss: 1.6974 - accuracy: 0.3390 - val_loss: 1.5118 - val_accuracy: 0.3791\n",
      "Epoch 22/100\n",
      "62/62 [==============================] - 95s 2s/step - loss: 1.6975 - accuracy: 0.3424 - val_loss: 1.8232 - val_accuracy: 0.3266\n",
      "Epoch 23/100\n",
      "62/62 [==============================] - 96s 2s/step - loss: 1.6946 - accuracy: 0.3412 - val_loss: 1.6404 - val_accuracy: 0.3730\n",
      "Epoch 24/100\n",
      "62/62 [==============================] - 91s 1s/step - loss: 1.6945 - accuracy: 0.3387 - val_loss: 1.3282 - val_accuracy: 0.3580\n",
      "Epoch 25/100\n",
      "62/62 [==============================] - 97s 2s/step - loss: 1.6907 - accuracy: 0.3431 - val_loss: 1.5971 - val_accuracy: 0.3420\n",
      "Epoch 26/100\n",
      "62/62 [==============================] - 85s 1s/step - loss: 1.6896 - accuracy: 0.3439 - val_loss: 1.9617 - val_accuracy: 0.3635\n",
      "Epoch 27/100\n",
      "62/62 [==============================] - 90s 1s/step - loss: 1.6881 - accuracy: 0.3433 - val_loss: 1.6953 - val_accuracy: 0.3974\n",
      "Epoch 28/100\n",
      "62/62 [==============================] - 89s 1s/step - loss: 1.6879 - accuracy: 0.3454 - val_loss: 1.7989 - val_accuracy: 0.3163\n",
      "Epoch 29/100\n",
      "62/62 [==============================] - 86s 1s/step - loss: 1.6829 - accuracy: 0.3455 - val_loss: 1.5933 - val_accuracy: 0.3818\n",
      "Epoch 30/100\n",
      "62/62 [==============================] - 91s 1s/step - loss: 1.6869 - accuracy: 0.3432 - val_loss: 1.5011 - val_accuracy: 0.3363\n",
      "Epoch 31/100\n",
      "62/62 [==============================] - 89s 1s/step - loss: 1.6814 - accuracy: 0.3464 - val_loss: 1.5409 - val_accuracy: 0.3538\n",
      "Epoch 32/100\n",
      "62/62 [==============================] - 95s 2s/step - loss: 1.6780 - accuracy: 0.3485 - val_loss: 2.0856 - val_accuracy: 0.3525\n",
      "Epoch 33/100\n",
      "62/62 [==============================] - 292s 5s/step - loss: 1.6791 - accuracy: 0.3493 - val_loss: 1.4183 - val_accuracy: 0.3801\n",
      "Epoch 34/100\n",
      "62/62 [==============================] - 298s 5s/step - loss: 1.6780 - accuracy: 0.3489 - val_loss: 1.7816 - val_accuracy: 0.3243\n",
      "Epoch 35/100\n",
      "62/62 [==============================] - 305s 5s/step - loss: 1.6779 - accuracy: 0.3494 - val_loss: 1.5723 - val_accuracy: 0.3844\n",
      "Epoch 36/100\n",
      "62/62 [==============================] - 304s 5s/step - loss: 1.6784 - accuracy: 0.3489 - val_loss: 1.4143 - val_accuracy: 0.3422\n",
      "Epoch 37/100\n",
      "62/62 [==============================] - 300s 5s/step - loss: 1.6724 - accuracy: 0.3534 - val_loss: 1.5664 - val_accuracy: 0.3414\n",
      "Epoch 38/100\n",
      "62/62 [==============================] - 299s 5s/step - loss: 1.6749 - accuracy: 0.3515 - val_loss: 2.1900 - val_accuracy: 0.3624\n",
      "Epoch 39/100\n",
      "62/62 [==============================] - 301s 5s/step - loss: 1.6757 - accuracy: 0.3503 - val_loss: 1.5625 - val_accuracy: 0.3932\n",
      "Epoch 40/100\n",
      "62/62 [==============================] - 303s 5s/step - loss: 1.6671 - accuracy: 0.3557 - val_loss: 1.7951 - val_accuracy: 0.3093\n",
      "Epoch 41/100\n",
      "62/62 [==============================] - 306s 5s/step - loss: 1.6742 - accuracy: 0.3528 - val_loss: 1.7649 - val_accuracy: 0.3782\n",
      "Epoch 42/100\n",
      "62/62 [==============================] - 305s 5s/step - loss: 1.6681 - accuracy: 0.3504 - val_loss: 1.4170 - val_accuracy: 0.3437\n",
      "Epoch 43/100\n",
      "62/62 [==============================] - 304s 5s/step - loss: 1.6685 - accuracy: 0.3532 - val_loss: 1.7222 - val_accuracy: 0.3440\n",
      "Epoch 44/100\n",
      "62/62 [==============================] - 303s 5s/step - loss: 1.6691 - accuracy: 0.3528 - val_loss: 2.0779 - val_accuracy: 0.3732\n",
      "Epoch 45/100\n",
      "62/62 [==============================] - 303s 5s/step - loss: 1.6669 - accuracy: 0.3531 - val_loss: 1.5111 - val_accuracy: 0.4130\n",
      "Epoch 46/100\n",
      "62/62 [==============================] - 302s 5s/step - loss: 1.6596 - accuracy: 0.3561 - val_loss: 1.7488 - val_accuracy: 0.3458\n",
      "Epoch 47/100\n",
      "62/62 [==============================] - 301s 5s/step - loss: 1.6640 - accuracy: 0.3553 - val_loss: 1.6906 - val_accuracy: 0.3728\n",
      "Epoch 48/100\n",
      "62/62 [==============================] - 301s 5s/step - loss: 1.6660 - accuracy: 0.3543 - val_loss: 1.3368 - val_accuracy: 0.3578\n",
      "Epoch 49/100\n",
      "62/62 [==============================] - 304s 5s/step - loss: 1.6598 - accuracy: 0.3582 - val_loss: 1.6750 - val_accuracy: 0.3462\n",
      "Epoch 50/100\n",
      "62/62 [==============================] - 300s 5s/step - loss: 1.6552 - accuracy: 0.3596 - val_loss: 2.0362 - val_accuracy: 0.3641\n",
      "Epoch 51/100\n",
      "62/62 [==============================] - 301s 5s/step - loss: 1.6608 - accuracy: 0.3574 - val_loss: 1.5829 - val_accuracy: 0.3928\n",
      "Epoch 52/100\n",
      "62/62 [==============================] - 303s 5s/step - loss: 1.6582 - accuracy: 0.3573 - val_loss: 1.7432 - val_accuracy: 0.3449\n",
      "Epoch 53/100\n",
      "62/62 [==============================] - 301s 5s/step - loss: 1.6609 - accuracy: 0.3577 - val_loss: 1.4512 - val_accuracy: 0.3795\n",
      "Epoch 54/100\n",
      "62/62 [==============================] - 304s 5s/step - loss: 1.6591 - accuracy: 0.3585 - val_loss: 1.3781 - val_accuracy: 0.3576\n",
      "Epoch 55/100\n",
      "62/62 [==============================] - 298s 5s/step - loss: 1.6568 - accuracy: 0.3600 - val_loss: 1.6198 - val_accuracy: 0.3526\n",
      "Epoch 56/100\n",
      "62/62 [==============================] - 298s 5s/step - loss: 1.6597 - accuracy: 0.3603 - val_loss: 2.0911 - val_accuracy: 0.3736\n",
      "Epoch 57/100\n",
      "62/62 [==============================] - 301s 5s/step - loss: 1.6574 - accuracy: 0.3597 - val_loss: 1.5445 - val_accuracy: 0.4101\n",
      "Epoch 58/100\n",
      "62/62 [==============================] - 302s 5s/step - loss: 1.6580 - accuracy: 0.3572 - val_loss: 1.7491 - val_accuracy: 0.3472\n",
      "Epoch 59/100\n",
      "62/62 [==============================] - 297s 5s/step - loss: 1.6549 - accuracy: 0.3607 - val_loss: 1.5036 - val_accuracy: 0.3919\n",
      "Epoch 60/100\n",
      "62/62 [==============================] - 301s 5s/step - loss: 1.6555 - accuracy: 0.3587 - val_loss: 1.3580 - val_accuracy: 0.3671\n",
      "Epoch 61/100\n",
      "62/62 [==============================] - 300s 5s/step - loss: 1.6556 - accuracy: 0.3567 - val_loss: 1.4888 - val_accuracy: 0.3384\n",
      "Epoch 62/100\n",
      "62/62 [==============================] - 302s 5s/step - loss: 1.6509 - accuracy: 0.3601 - val_loss: 2.0070 - val_accuracy: 0.3715\n",
      "Epoch 63/100\n",
      "62/62 [==============================] - 298s 5s/step - loss: 1.6543 - accuracy: 0.3609 - val_loss: 1.6335 - val_accuracy: 0.3964\n",
      "Epoch 64/100\n",
      "62/62 [==============================] - 303s 5s/step - loss: 1.6525 - accuracy: 0.3583 - val_loss: 1.7354 - val_accuracy: 0.3536\n",
      "Epoch 65/100\n",
      "62/62 [==============================] - 303s 5s/step - loss: 1.6562 - accuracy: 0.3587 - val_loss: 1.6356 - val_accuracy: 0.3898\n",
      "Epoch 66/100\n",
      "62/62 [==============================] - 297s 5s/step - loss: 1.6516 - accuracy: 0.3633 - val_loss: 1.3356 - val_accuracy: 0.3599\n",
      "Epoch 67/100\n",
      "62/62 [==============================] - 303s 5s/step - loss: 1.6522 - accuracy: 0.3625 - val_loss: 1.5640 - val_accuracy: 0.3516\n",
      "Epoch 68/100\n",
      "62/62 [==============================] - 300s 5s/step - loss: 1.6521 - accuracy: 0.3623 - val_loss: 2.1656 - val_accuracy: 0.3818\n",
      "Epoch 69/100\n",
      "62/62 [==============================] - 299s 5s/step - loss: 1.6499 - accuracy: 0.3636 - val_loss: 1.6743 - val_accuracy: 0.3987\n",
      "Epoch 70/100\n",
      "62/62 [==============================] - 301s 5s/step - loss: 1.6459 - accuracy: 0.3629 - val_loss: 1.7176 - val_accuracy: 0.3544\n",
      "Epoch 71/100\n",
      "62/62 [==============================] - 300s 5s/step - loss: 1.6468 - accuracy: 0.3642 - val_loss: 1.6552 - val_accuracy: 0.3835\n",
      "Epoch 72/100\n",
      "62/62 [==============================] - 299s 5s/step - loss: 1.6489 - accuracy: 0.3618 - val_loss: 1.4943 - val_accuracy: 0.3504\n",
      "Epoch 73/100\n",
      "62/62 [==============================] - 300s 5s/step - loss: 1.6506 - accuracy: 0.3619 - val_loss: 1.6854 - val_accuracy: 0.3486\n",
      "Epoch 74/100\n",
      "62/62 [==============================] - 300s 5s/step - loss: 1.6501 - accuracy: 0.3616 - val_loss: 2.0811 - val_accuracy: 0.3696\n",
      "Epoch 75/100\n",
      "62/62 [==============================] - 297s 5s/step - loss: 1.6481 - accuracy: 0.3608 - val_loss: 1.5893 - val_accuracy: 0.3964\n",
      "Epoch 76/100\n",
      "62/62 [==============================] - 299s 5s/step - loss: 1.6444 - accuracy: 0.3654 - val_loss: 1.8003 - val_accuracy: 0.3445\n",
      "Epoch 77/100\n",
      "62/62 [==============================] - 300s 5s/step - loss: 1.6431 - accuracy: 0.3648 - val_loss: 1.4633 - val_accuracy: 0.3913\n",
      "Epoch 78/100\n",
      "62/62 [==============================] - 299s 5s/step - loss: 1.6467 - accuracy: 0.3647 - val_loss: 1.3055 - val_accuracy: 0.3584\n",
      "Epoch 79/100\n",
      "62/62 [==============================] - 302s 5s/step - loss: 1.6427 - accuracy: 0.3663 - val_loss: 1.5964 - val_accuracy: 0.3444\n",
      "Epoch 80/100\n",
      "62/62 [==============================] - 297s 5s/step - loss: 1.6394 - accuracy: 0.3668 - val_loss: 2.0451 - val_accuracy: 0.3715\n",
      "Epoch 81/100\n",
      "62/62 [==============================] - 299s 5s/step - loss: 1.6396 - accuracy: 0.3649 - val_loss: 1.5997 - val_accuracy: 0.3989\n",
      "Epoch 82/100\n",
      "62/62 [==============================] - 299s 5s/step - loss: 1.6435 - accuracy: 0.3623 - val_loss: 1.7168 - val_accuracy: 0.3435\n",
      "Epoch 83/100\n",
      "62/62 [==============================] - 298s 5s/step - loss: 1.6435 - accuracy: 0.3668 - val_loss: 1.5208 - val_accuracy: 0.3879\n",
      "Epoch 84/100\n",
      "62/62 [==============================] - 302s 5s/step - loss: 1.6444 - accuracy: 0.3657 - val_loss: 1.3722 - val_accuracy: 0.3715\n",
      "Epoch 85/100\n",
      "62/62 [==============================] - 305s 5s/step - loss: 1.6390 - accuracy: 0.3673 - val_loss: 1.5233 - val_accuracy: 0.3500\n",
      "Epoch 86/100\n",
      "62/62 [==============================] - 302s 5s/step - loss: 1.6423 - accuracy: 0.3645 - val_loss: 2.0122 - val_accuracy: 0.3725\n",
      "Epoch 87/100\n",
      "62/62 [==============================] - 298s 5s/step - loss: 1.6410 - accuracy: 0.3659 - val_loss: 1.6799 - val_accuracy: 0.3997\n",
      "Epoch 88/100\n",
      "62/62 [==============================] - 303s 5s/step - loss: 1.6403 - accuracy: 0.3662 - val_loss: 1.7972 - val_accuracy: 0.3595\n",
      "Epoch 89/100\n",
      "62/62 [==============================] - 298s 5s/step - loss: 1.6352 - accuracy: 0.3707 - val_loss: 1.5202 - val_accuracy: 0.3789\n",
      "Epoch 90/100\n",
      "62/62 [==============================] - 307s 5s/step - loss: 1.6436 - accuracy: 0.3668 - val_loss: 1.5111 - val_accuracy: 0.3403\n",
      "Epoch 91/100\n",
      "62/62 [==============================] - 304s 5s/step - loss: 1.6408 - accuracy: 0.3670 - val_loss: 1.5407 - val_accuracy: 0.3514\n",
      "Epoch 92/100\n",
      "62/62 [==============================] - 298s 5s/step - loss: 1.6405 - accuracy: 0.3675 - val_loss: 1.9921 - val_accuracy: 0.3702\n",
      "Epoch 93/100\n",
      "62/62 [==============================] - 305s 5s/step - loss: 1.6357 - accuracy: 0.3700 - val_loss: 1.5511 - val_accuracy: 0.3911\n",
      "Epoch 94/100\n",
      "62/62 [==============================] - 305s 5s/step - loss: 1.6381 - accuracy: 0.3674 - val_loss: 1.7901 - val_accuracy: 0.3546\n",
      "Epoch 95/100\n",
      "62/62 [==============================] - 299s 5s/step - loss: 1.6376 - accuracy: 0.3697 - val_loss: 1.6497 - val_accuracy: 0.3827\n",
      "Epoch 96/100\n",
      "62/62 [==============================] - 304s 5s/step - loss: 1.6395 - accuracy: 0.3686 - val_loss: 1.3616 - val_accuracy: 0.3647\n",
      "Epoch 97/100\n",
      "62/62 [==============================] - 306s 5s/step - loss: 1.6341 - accuracy: 0.3681 - val_loss: 1.5230 - val_accuracy: 0.3420\n",
      "Epoch 98/100\n",
      "62/62 [==============================] - 305s 5s/step - loss: 1.6360 - accuracy: 0.3697 - val_loss: 2.1477 - val_accuracy: 0.3799\n",
      "Epoch 99/100\n",
      "62/62 [==============================] - 304s 5s/step - loss: 1.6365 - accuracy: 0.3698 - val_loss: 1.5827 - val_accuracy: 0.4052\n",
      "Epoch 100/100\n",
      "62/62 [==============================] - 303s 5s/step - loss: 1.6406 - accuracy: 0.3644 - val_loss: 1.7341 - val_accuracy: 0.3626\n"
     ]
    }
   ],
   "source": [
    "from keras.optimizers import RMSprop\n",
    "from keras.callbacks import ModelCheckpoint, EarlyStopping\n",
    "                   \n",
    "checkpoint = ModelCheckpoint(\"C:/Users/elton/Google Drive/AI Course/Capstone Project/emotion/emotion_vgg.h5\",\n",
    "                             monitor=\"val_loss\",\n",
    "                             mode=\"min\",\n",
    "                             save_best_only = True,\n",
    "                             verbose=1)\n",
    "\n",
    "earlystop = EarlyStopping(monitor = 'val_loss', \n",
    "                          min_delta = 0, \n",
    "                          patience = 20,\n",
    "                          #patience = 3,(original is 3, changed to 15)\n",
    "                          verbose = 1,\n",
    "                          restore_best_weights = True)\n",
    "\n",
    "# we put our call backs into a callback list\n",
    "callbacks = [earlystop, checkpoint]\n",
    "\n",
    "# Note we use a very small learning rate \n",
    "model.compile(loss = 'categorical_crossentropy',\n",
    "              optimizer = RMSprop(lr = 0.001),\n",
    "              metrics = ['accuracy'])\n",
    "\n",
    "nb_train_samples = 62348\n",
    "nb_validation_samples = 5743\n",
    "epochs = 100\n",
    "batch_size = 1000\n",
    "\n",
    "history = model.fit_generator(\n",
    "    train_generator,\n",
    "    steps_per_epoch = nb_train_samples // batch_size,\n",
    "    epochs = epochs,\n",
    "    #callbacks = callbacks,\n",
    "    validation_data = validation_generator,\n",
    "    validation_steps = nb_validation_samples // batch_size)\n",
    "\n",
    "model.save(\"C:/Users/elton/Google Drive/AI Course/Capstone Project/emotion/emotion_vgg.h5\")"
   ]
  },
  {
   "cell_type": "code",
   "execution_count": 18,
   "metadata": {},
   "outputs": [],
   "source": [
    "#saving this history file\n",
    "import pandas as pd\n",
    "\n",
    "# assuming you stored your model.fit results in a 'history' variable:\n",
    "#history = model.fit(x_train, y_train, epochs=10)\n",
    "\n",
    "# convert the history.history dict to a pandas DataFrame:     \n",
    "hist_df = pd.DataFrame(history.history)\n",
    "\n",
    "# save to json:  \n",
    "hist_json_file = 'history_vgg16.json' \n",
    "with open(hist_json_file, mode='w') as f:\n",
    "    hist_df.to_json(f)\n",
    "\n",
    "# or save to csv: \n",
    "hist_csv_file = 'history_vgg16.csv'\n",
    "with open(hist_csv_file, mode='w') as f:\n",
    "    hist_df.to_csv(f)"
   ]
  },
  {
   "cell_type": "code",
   "execution_count": 19,
   "metadata": {},
   "outputs": [
    {
     "name": "stdout",
     "output_type": "stream",
     "text": [
      "Saved emotion model to disk\n"
     ]
    }
   ],
   "source": [
    "model.save(\"emotion_vgg.h5\")\n",
    "print(\"Saved emotion model to disk\")"
   ]
  },
  {
   "cell_type": "code",
   "execution_count": 20,
   "metadata": {},
   "outputs": [
    {
     "name": "stdout",
     "output_type": "stream",
     "text": [
      "Saved model to disk\n"
     ]
    }
   ],
   "source": [
    "#ek added\n",
    "model.save_weights(\"model.h5\")\n",
    "print(\"Saved model to disk\")"
   ]
  },
  {
   "cell_type": "code",
   "execution_count": 21,
   "metadata": {},
   "outputs": [
    {
     "data": {
      "text/plain": [
       "<matplotlib.axes._subplots.AxesSubplot at 0x17cb195ba48>"
      ]
     },
     "execution_count": 21,
     "metadata": {},
     "output_type": "execute_result"
    },
    {
     "data": {
      "image/png": "[encoded data removed]",
      "text/plain": [
       "<Figure size 432x288 with 1 Axes>"
      ]
     },
     "metadata": {
      "needs_background": "light"
     },
     "output_type": "display_data"
    }
   ],
   "source": [
    "import pandas as pd\n",
    "\n",
    "model_loss = pd.DataFrame(history.history)\n",
    "model_loss.plot()"
   ]
  },
  {
   "cell_type": "code",
   "execution_count": null,
   "metadata": {},
   "outputs": [],
   "source": [
    "from keras.models import load_model\n",
    "\n",
    "classifier = load_model('emotion_vgg.h5')"
   ]
  },
  {
   "cell_type": "code",
   "execution_count": 22,
   "metadata": {},
   "outputs": [
    {
     "name": "stdout",
     "output_type": "stream",
     "text": [
      "Found 5743 images belonging to 7 classes.\n",
      "Confusion Matrix\n",
      "[[372   4 115  98  93 183 135]\n",
      " [ 76   6  16  19   8  68  16]\n",
      " [ 67   1 147  80  41  81 117]\n",
      " [ 84   1  72 479  74 144 146]\n",
      " [192   2 102 157 149 172 226]\n",
      " [173   1 114 110 122 337 143]\n",
      " [ 66   0 113  73  53  79 616]]\n",
      "Classification Report\n",
      "              precision    recall  f1-score   support\n",
      "\n",
      "       Angry       0.36      0.37      0.37      1000\n",
      "     Disgust       0.40      0.03      0.05       209\n",
      "        Fear       0.22      0.28      0.24       534\n",
      "       Happy       0.47      0.48      0.48      1000\n",
      "     Neutral       0.28      0.15      0.19      1000\n",
      "         Sad       0.32      0.34      0.33      1000\n",
      "    Surprise       0.44      0.62      0.51      1000\n",
      "\n",
      "    accuracy                           0.37      5743\n",
      "   macro avg       0.35      0.32      0.31      5743\n",
      "weighted avg       0.36      0.37      0.35      5743\n",
      "\n"
     ]
    },
    {
     "data": {
      "image/png": "[encoded data removed]",
      "text/plain": [
       "<Figure size 576x576 with 2 Axes>"
      ]
     },
     "metadata": {
      "needs_background": "light"
     },
     "output_type": "display_data"
    }
   ],
   "source": [
    "import matplotlib.pyplot as plt\n",
    "import sklearn\n",
    "from sklearn.metrics import classification_report, confusion_matrix\n",
    "import numpy as np\n",
    "\n",
    "nb_train_samples = 62348\n",
    "nb_validation_samples = 5743\n",
    "\n",
    "# We need to recreate our validation generator with shuffle = false\n",
    "validation_generator = validation_datagen.flow_from_directory(\n",
    "        validation_data_dir,\n",
    "        #color_mode = 'grayscale',\n",
    "        target_size=(img_rows, img_cols),\n",
    "        batch_size=batch_size,\n",
    "        class_mode='categorical',\n",
    "        shuffle=False)\n",
    "\n",
    "class_labels = validation_generator.class_indices\n",
    "class_labels = {v: k for k, v in class_labels.items()}\n",
    "classes = list(class_labels.values())\n",
    "\n",
    "#Confution Matrix and Classification Report\n",
    "Y_pred = model.predict_generator(validation_generator, nb_validation_samples // batch_size+1)\n",
    "y_pred = np.argmax(Y_pred, axis=1)\n",
    "\n",
    "print('Confusion Matrix')\n",
    "print(confusion_matrix(validation_generator.classes, y_pred))\n",
    "print('Classification Report')\n",
    "target_names = list(class_labels.values())\n",
    "print(classification_report(validation_generator.classes, y_pred, target_names=target_names))\n",
    "\n",
    "plt.figure(figsize=(8,8))\n",
    "cnf_matrix = confusion_matrix(validation_generator.classes, y_pred)\n",
    "\n",
    "plt.imshow(cnf_matrix, interpolation='nearest')\n",
    "plt.colorbar()\n",
    "tick_marks = np.arange(len(classes))\n",
    "_ = plt.xticks(tick_marks, classes, rotation=90)\n",
    "_ = plt.yticks(tick_marks, classes)"
   ]
  }
 ],
 "metadata": {
  "kernelspec": {
   "display_name": "Python 3",
   "language": "python",
   "name": "python3"
  },
  "language_info": {
   "codemirror_mode": {
    "name": "ipython",
    "version": 3
   },
   "file_extension": ".py",
   "mimetype": "text/x-python",
   "name": "python",
   "nbconvert_exporter": "python",
   "pygments_lexer": "ipython3",
   "version": "3.7.4"
  }
 },
 "nbformat": 4,
 "nbformat_minor": 4
}
