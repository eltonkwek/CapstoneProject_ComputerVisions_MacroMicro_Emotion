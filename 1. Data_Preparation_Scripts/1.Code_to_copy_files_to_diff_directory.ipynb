{
 "cells": [
  {
   "cell_type": "code",
   "execution_count": 1,
   "metadata": {},
   "outputs": [],
   "source": [
    "import pandas as pd\n",
    "\n",
    "angry = pd.read_table(\"angry.txt\", names=['file'])\n",
    "disgust = pd.read_table(\"disgust.txt\", names=['file'])\n",
    "happy = pd.read_table(\"happy.txt\", names=['file'])\n",
    "sad = pd.read_table(\"sad.txt\", names=['file'])\n",
    "surprised = pd.read_table(\"surprised.txt\", names=['file'])\n",
    "\n",
    "#df1_angry = angry.append(angry)\n",
    "#df2_disgust = disgust.append(disgust)\n",
    "#df3_happy = happy.append(happy)\n",
    "#df4_sad = sad.append(sad)\n",
    "#df5_surprised = surprised.append(surprised)\n",
    "\n",
    "#data_wext.to_csv(\"allemotions.csv\", index=0)"
   ]
  },
  {
   "cell_type": "code",
   "execution_count": 4,
   "metadata": {},
   "outputs": [
    {
     "name": "stdout",
     "output_type": "stream",
     "text": [
      "C:/Users/elton/Google Drive/AI Course/Capstone Project/Sourced Database/3.jaffedbase/source\\KA.AN1.39.tiff\n",
      "C:/Users/elton/Google Drive/AI Course/Capstone Project/Sourced Database/3.jaffedbase/source\\KA.AN2.40.tiff\n",
      "C:/Users/elton/Google Drive/AI Course/Capstone Project/Sourced Database/3.jaffedbase/source\\KL.AN3.169.tiff\n",
      "C:/Users/elton/Google Drive/AI Course/Capstone Project/Sourced Database/3.jaffedbase/source\\KM.AN1.17.tiff\n",
      "C:/Users/elton/Google Drive/AI Course/Capstone Project/Sourced Database/3.jaffedbase/source\\KM.AN2.18.tiff\n",
      "C:/Users/elton/Google Drive/AI Course/Capstone Project/Sourced Database/3.jaffedbase/source\\KM.AN3.19.tiff\n",
      "C:/Users/elton/Google Drive/AI Course/Capstone Project/Sourced Database/3.jaffedbase/source\\KR.AN1.83.tiff\n",
      "C:/Users/elton/Google Drive/AI Course/Capstone Project/Sourced Database/3.jaffedbase/source\\KR.AN2.84.tiff\n",
      "C:/Users/elton/Google Drive/AI Course/Capstone Project/Sourced Database/3.jaffedbase/source\\KR.AN3.85.tiff\n",
      "C:/Users/elton/Google Drive/AI Course/Capstone Project/Sourced Database/3.jaffedbase/source\\KR.DI3.88.tiff\n",
      "C:/Users/elton/Google Drive/AI Course/Capstone Project/Sourced Database/3.jaffedbase/source\\KR.NE1.71.tiff\n",
      "C:/Users/elton/Google Drive/AI Course/Capstone Project/Sourced Database/3.jaffedbase/source\\KR.NE2.72.tiff\n",
      "C:/Users/elton/Google Drive/AI Course/Capstone Project/Sourced Database/3.jaffedbase/source\\KR.NE3.73.tiff\n",
      "C:/Users/elton/Google Drive/AI Course/Capstone Project/Sourced Database/3.jaffedbase/source\\MK.AN3.127.tiff\n",
      "C:/Users/elton/Google Drive/AI Course/Capstone Project/Sourced Database/3.jaffedbase/source\\NA.AN1.211.tiff\n",
      "C:/Users/elton/Google Drive/AI Course/Capstone Project/Sourced Database/3.jaffedbase/source\\NA.AN2.212.tiff\n",
      "C:/Users/elton/Google Drive/AI Course/Capstone Project/Sourced Database/3.jaffedbase/source\\NA.AN3.213.tiff\n",
      "C:/Users/elton/Google Drive/AI Course/Capstone Project/Sourced Database/3.jaffedbase/source\\NA.DI3.216.tiff\n",
      "C:/Users/elton/Google Drive/AI Course/Capstone Project/Sourced Database/3.jaffedbase/source\\NM.AN2.105.tiff\n",
      "C:/Users/elton/Google Drive/AI Course/Capstone Project/Sourced Database/3.jaffedbase/source\\TM.AN1.190.tiff\n",
      "C:/Users/elton/Google Drive/AI Course/Capstone Project/Sourced Database/3.jaffedbase/source\\UY.AN1.146.tiff\n",
      "C:/Users/elton/Google Drive/AI Course/Capstone Project/Sourced Database/3.jaffedbase/source\\YM.AN1.61.tiff\n",
      "C:/Users/elton/Google Drive/AI Course/Capstone Project/Sourced Database/3.jaffedbase/source\\YM.AN2.62.tiff\n",
      "C:/Users/elton/Google Drive/AI Course/Capstone Project/Sourced Database/3.jaffedbase/source\\YM.AN3.63.tiff\n"
     ]
    }
   ],
   "source": [
    "import os\n",
    "import shutil\n",
    "\n",
    "source = 'C:/Users/elton/Google Drive/AI Course/Capstone Project/Sourced Database/3.jaffedbase/source'\n",
    "\n",
    "angry_folder = 'C:/Users/elton/Google Drive/AI Course/Capstone Project/Sourced Database/3.jaffedbase/source/angry' #test folder\n",
    "disgust_folder = 'C:/Users/elton/Google Drive/AI Course/Capstone Project/Sourced Database/3.jaffedbase/source/disgust' #train folder\n",
    "happy_folder = 'C:/Users/elton/Google Drive/AI Course/Capstone Project/Sourced Database/3.jaffedbase/source/happy' #train folder\n",
    "sad_folder = 'C:/Users/elton/Google Drive/AI Course/Capstone Project/Sourced Database/3.jaffedbase/source/sad' #train folder\n",
    "surprised_folder = 'C:/Users/elton/Google Drive/AI Course/Capstone Project/Sourced Database/3.jaffedbase/source/surprised' #train folder\n",
    "\n",
    "#must change the header \"file\" specifically, otherwise shutil will not iterate\n",
    "angry_l = angry['file'].tolist()\n",
    "disgust_l = disgust['file'].tolist()\n",
    "happy_l = happy['file'].tolist()\n",
    "sad_l = sad['file'].tolist()\n",
    "surprised_l = surprised['file'].tolist()\n",
    "\n",
    "#move to angry\n",
    "for file in os.listdir(source):\n",
    "  if file in angry_l:\n",
    "    name = os.path.join(source, file )\n",
    "    if os.path.isfile(name) :\n",
    "        shutil.copy(name,angry_folder)\n",
    "    else :\n",
    "        print ('file does not exist', name)\n",
    "\n",
    "#move to disgust\n",
    "for file in os.listdir(source):\n",
    "  if file in disgust_l:\n",
    "    name = os.path.join(source, file )\n",
    "    if os.path.isfile(name) :\n",
    "        shutil.copy(name,disgust_folder)\n",
    "    else :\n",
    "        print ('file does not exist', name)\n",
    "        \n",
    "#move to happy\n",
    "for file in os.listdir(source):\n",
    "  if file in happy_l:\n",
    "    name = os.path.join(source, file )\n",
    "    if os.path.isfile(name) :\n",
    "        shutil.copy(name, happy_folder)\n",
    "    else :\n",
    "        print ('file does not exist', name)  \n",
    "        \n",
    "#move to happy\n",
    "for file in os.listdir(source):\n",
    "  if file in sad_l:\n",
    "    name = os.path.join(source, file )\n",
    "    if os.path.isfile(name) :\n",
    "        shutil.copy(name, sad_folder)\n",
    "    else :\n",
    "        print ('file does not exist', name) \n",
    "        \n",
    "        #move to disgust\n",
    "for file in os.listdir(source):\n",
    "  if file in surprised_l:\n",
    "    name = os.path.join(source, file )\n",
    "    if os.path.isfile(name) :\n",
    "        shutil.copy(name, surprised_folder)\n",
    "    else :\n",
    "        print ('file does not exist', name)"
   ]
  },
  {
   "cell_type": "code",
   "execution_count": null,
   "metadata": {},
   "outputs": [],
   "source": [
    "print(angry)"
   ]
  },
  {
   "cell_type": "code",
   "execution_count": null,
   "metadata": {},
   "outputs": [],
   "source": [
    "print(disgust)"
   ]
  },
  {
   "cell_type": "code",
   "execution_count": null,
   "metadata": {},
   "outputs": [],
   "source": [
    "print(happy)"
   ]
  },
  {
   "cell_type": "code",
   "execution_count": null,
   "metadata": {},
   "outputs": [],
   "source": [
    "print(sad)"
   ]
  },
  {
   "cell_type": "code",
   "execution_count": null,
   "metadata": {},
   "outputs": [],
   "source": [
    "print(surprised)"
   ]
  },
  {
   "cell_type": "code",
   "execution_count": null,
   "metadata": {},
   "outputs": [],
   "source": [
    "angry.tolist()"
   ]
  },
  {
   "cell_type": "code",
   "execution_count": null,
   "metadata": {},
   "outputs": [],
   "source": [
    "import os\n",
    "currentDirectory = os.getcwd()\n",
    "print(currentDirectory)"
   ]
  },
  {
   "cell_type": "code",
   "execution_count": null,
   "metadata": {},
   "outputs": [],
   "source": [
    "# importing os module  \n",
    "import os \n",
    "  \n",
    "# importing shutil module  \n",
    "import shutil\n",
    "path = 'C:/Users/elton/Google Drive/AI Course/Capstone Project/Sourced Database/3.jaffedbase/source'\n",
    "print(\"Before copying file:\") \n",
    "print(os.listdir(path)) \n",
    "  "
   ]
  },
  {
   "cell_type": "code",
   "execution_count": null,
   "metadata": {},
   "outputs": [],
   "source": [
    "newPath = shutil.copy('KA.AN1.39.tiff', '/source/angry')\n",
    "#this works "
   ]
  },
  {
   "cell_type": "code",
   "execution_count": 3,
   "metadata": {},
   "outputs": [
    {
     "name": "stdout",
     "output_type": "stream",
     "text": [
      "['KM.AN1.17.tiff', 'KM.AN2.18.tiff', 'KM.AN3.19.tiff', 'KA.AN1.39.tiff', 'KA.AN2.40.tiff', 'YM.AN1.61.tiff', 'YM.AN2.62.tiff', 'YM.AN3.63.tiff', 'KR.NE1.71.tiff', 'KR.NE2.72.tiff', 'KR.NE3.73.tiff', 'KR.AN1.83.tiff', 'KR.AN2.84.tiff', 'KR.AN3.85.tiff', 'KR.DI3.88.tiff', 'NM.AN2.105.tiff', 'MK.AN3.127.tiff', 'UY.AN1.146.tiff', 'KL.AN3.169.tiff', 'TM.AN1.190.tiff', 'NA.AN1.211.tiff', 'NA.AN2.212.tiff', 'NA.AN3.213.tiff', 'NA.DI3.216.tiff']\n"
     ]
    }
   ],
   "source": [
    "print(angry_l)"
   ]
  },
  {
   "cell_type": "code",
   "execution_count": 5,
   "metadata": {},
   "outputs": [
    {
     "name": "stdout",
     "output_type": "stream",
     "text": [
      "['KM.SA5.13.tiff', 'KM.DI1.20.tiff', 'KM.DI2.21.tiff', 'KM.DI3.22.tiff', 'KA.AN3.41.tiff', 'KA.DI1.42.tiff', 'KA.DI2.43.tiff', 'KA.DI3.44.tiff', 'YM.DI1.64.tiff', 'YM.DI2.65.tiff', 'YM.DI3.66.tiff', 'KR.DI1.86.tiff', 'KR.DI2.87.tiff', 'NM.AN3.106.tiff', 'NM.DI1.107.tiff', 'NM.DI2.108.tiff', 'NM.DI3.109.tiff', 'MK.AN1.125.tiff', 'MK.AN2.126.tiff', 'MK.DI1.128.tiff', 'MK.DI2.129.tiff', 'MK.DI3.130.tiff', 'UY.SA1.140.tiff', 'UY.AN2.147.tiff', 'UY.AN3.148.tiff', 'UY.DI1.149.tiff', 'UY.DI2.150.tiff', 'UY.DI3.151.tiff', 'KL.DI1.170.tiff', 'KL.DI2.171.tiff', 'KL.DI3.172.tiff', 'KL.DI4.173.tiff', 'TM.AN2.191.tiff', 'TM.AN3.192.tiff', 'TM.DI1.193.tiff', 'TM.DI2.194.tiff', 'TM.DI3.195.tiff', 'NA.SA2.206.tiff', 'NA.DI1.214.tiff']\n"
     ]
    }
   ],
   "source": [
    "print(disgust_l)"
   ]
  },
  {
   "cell_type": "code",
   "execution_count": null,
   "metadata": {},
   "outputs": [],
   "source": []
  }
 ],
 "metadata": {
  "kernelspec": {
   "display_name": "Python 3",
   "language": "python",
   "name": "python3"
  },
  "language_info": {
   "codemirror_mode": {
    "name": "ipython",
    "version": 3
   },
   "file_extension": ".py",
   "mimetype": "text/x-python",
   "name": "python",
   "nbconvert_exporter": "python",
   "pygments_lexer": "ipython3",
   "version": "3.7.4"
  }
 },
 "nbformat": 4,
 "nbformat_minor": 4
}
