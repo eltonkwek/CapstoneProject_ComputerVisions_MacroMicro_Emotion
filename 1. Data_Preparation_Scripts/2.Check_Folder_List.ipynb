{
 "cells": [
  {
   "cell_type": "code",
   "execution_count": 1,
   "metadata": {},
   "outputs": [
    {
     "name": "stdout",
     "output_type": "stream",
     "text": [
      "Current Working Directory  C:\\Users\\elton\\Google Drive\\AI Course\n",
      "Current Working Directory  C:\\Users\\elton\\Google Drive\\AI Course\n"
     ]
    }
   ],
   "source": [
    "import os\n",
    "print(\"Current Working Directory \" , os.getcwd())\n",
    "\n",
    "print(\"Current Working Directory \" , os.getcwd())"
   ]
  },
  {
   "cell_type": "code",
   "execution_count": 4,
   "metadata": {},
   "outputs": [
    {
     "name": "stdout",
     "output_type": "stream",
     "text": [
      "Current Working Directory  C:\\Users\\elton\\Google Drive\\AI Course\n",
      "Can't change the Current Working Directory\n",
      "Current Working Directory  C:\\Users\\elton\\Google Drive\\AI Course\n",
      "Can't change the Current Working Directory\n",
      "Current Working Directory  C:\\Users\\elton\\Google Drive\\AI Course\n"
     ]
    }
   ],
   "source": [
    "# Current Working Directory  C:\\Users\\elton\\Google Drive\\AI Course\n",
    "# Current Working Directory  C:\\Users\\elton\\Google Drive\\AI Course\n",
    "\n",
    "import os\n",
    " \n",
    "def main():\n",
    "    \n",
    "    print(\"Current Working Directory \" , os.getcwd())\n",
    "    \n",
    "    \n",
    "    try:\n",
    "        # Change the current working Directory    \n",
    "        os.chdir(\"D:\\AI Course\\AI Capstone Project\\KDEF_and_AKDEF\\KDEF_and_AKDEF\\AKDEF\")\n",
    "        print(\"Directory changed\")\n",
    "    except OSError:\n",
    "        print(\"Can't change the Current Working Directory\")        \n",
    " \n",
    "    print(\"Current Working Directory \" , os.getcwd())\n",
    "    \n",
    "    # Check if New path exists\n",
    "    if os.path.exists(\"D:\\AI Course\\AI Capstone Project\\KDEF_and_AKDEF\\KDEF_and_AKDEF\\AKDEF\") :\n",
    "        # Change the current working Directory    \n",
    "        os.chdir(\"D:\\AI Course\\AI Capstone Project\\KDEF_and_AKDEF\\KDEF_and_AKDEF\\AKDEF\")\n",
    "    else:\n",
    "        print(\"Can't change the Current Working Directory\")    \n",
    " \n",
    "        \n",
    "    \n",
    "    print(\"Current Working Directory \" , os.getcwd())\n",
    "    \n",
    "if __name__ == '__main__':\n",
    "    main()"
   ]
  },
  {
   "cell_type": "code",
   "execution_count": 3,
   "metadata": {},
   "outputs": [
    {
     "name": "stdout",
     "output_type": "stream",
     "text": [
      "Current Working Directory  C:\\Users\\elton\\Google Drive\\AI Course\n",
      "Current Working Directory  C:\\Users\\elton\\Google Drive\\AI Course\n"
     ]
    }
   ],
   "source": [
    "import os\n",
    "print(\"Current Working Directory \" , os.getcwd())\n",
    "\n",
    "print(\"Current Working Directory \" , os.getcwd())"
   ]
  },
  {
   "cell_type": "code",
   "execution_count": 8,
   "metadata": {},
   "outputs": [
    {
     "ename": "NameError",
     "evalue": "name 'mypath' is not defined",
     "output_type": "error",
     "traceback": [
      "\u001b[1;31m---------------------------------------------------------------------------\u001b[0m",
      "\u001b[1;31mNameError\u001b[0m                                 Traceback (most recent call last)",
      "\u001b[1;32m<ipython-input-8-88b35248d7f9>\u001b[0m in \u001b[0;36m<module>\u001b[1;34m\u001b[0m\n\u001b[0;32m      1\u001b[0m \u001b[1;32mfrom\u001b[0m \u001b[0mos\u001b[0m \u001b[1;32mimport\u001b[0m \u001b[0mlistdir\u001b[0m\u001b[1;33m\u001b[0m\u001b[1;33m\u001b[0m\u001b[0m\n\u001b[0;32m      2\u001b[0m \u001b[1;32mfrom\u001b[0m \u001b[0mos\u001b[0m\u001b[1;33m.\u001b[0m\u001b[0mpath\u001b[0m \u001b[1;32mimport\u001b[0m \u001b[0misfile\u001b[0m\u001b[1;33m,\u001b[0m \u001b[0mjoin\u001b[0m\u001b[1;33m\u001b[0m\u001b[1;33m\u001b[0m\u001b[0m\n\u001b[1;32m----> 3\u001b[1;33m \u001b[0monlyfiles\u001b[0m \u001b[1;33m=\u001b[0m \u001b[1;33m[\u001b[0m\u001b[0mf\u001b[0m \u001b[1;32mfor\u001b[0m \u001b[0mf\u001b[0m \u001b[1;32min\u001b[0m \u001b[0mlistdir\u001b[0m\u001b[1;33m(\u001b[0m\u001b[0mmypath\u001b[0m\u001b[1;33m)\u001b[0m \u001b[1;32mif\u001b[0m \u001b[0misfile\u001b[0m\u001b[1;33m(\u001b[0m\u001b[0mjoin\u001b[0m\u001b[1;33m(\u001b[0m\u001b[0mmypath\u001b[0m\u001b[1;33m,\u001b[0m \u001b[0mf\u001b[0m\u001b[1;33m)\u001b[0m\u001b[1;33m)\u001b[0m\u001b[1;33m]\u001b[0m\u001b[1;33m\u001b[0m\u001b[1;33m\u001b[0m\u001b[0m\n\u001b[0m",
      "\u001b[1;31mNameError\u001b[0m: name 'mypath' is not defined"
     ]
    }
   ],
   "source": [
    "from os import listdir\n",
    "from os.path import isfile, join\n",
    "onlyfiles = [f for f in listdir(mypath) if isfile(join(mypath, f))]"
   ]
  },
  {
   "cell_type": "code",
   "execution_count": 9,
   "metadata": {},
   "outputs": [
    {
     "data": {
      "text/plain": [
       "['FAFFL.JPG',\n",
       " 'FAFFR.JPG',\n",
       " 'FAFHL.JPG',\n",
       " 'FAFS.JPG',\n",
       " 'FAHR.JPG',\n",
       " 'FANFL.JPG',\n",
       " 'FANFR.JPG',\n",
       " 'FANHL.JPG',\n",
       " 'FANHR.JPG',\n",
       " 'FANS.JPG',\n",
       " 'FDIFL.JPG',\n",
       " 'FDIFR.JPG',\n",
       " 'FDIHL.JPG',\n",
       " 'FDIHR.JPG',\n",
       " 'FDIS.JPG',\n",
       " 'FHAFL.JPG',\n",
       " 'FHAFR.JPG',\n",
       " 'FHAHL.JPG',\n",
       " 'FHAHR.JPG',\n",
       " 'FHAS.JPG',\n",
       " 'FNEFL.JPG',\n",
       " 'FNEFR.JPG',\n",
       " 'FNEHL.JPG',\n",
       " 'FNEHR.JPG',\n",
       " 'FNES.JPG',\n",
       " 'FSAFL.JPG',\n",
       " 'FSAFR.JPG',\n",
       " 'FSAHL.JPG',\n",
       " 'FSAHR.JPG',\n",
       " 'FSAS.JPG',\n",
       " 'FSUFL.JPG',\n",
       " 'FSUFR.JPG',\n",
       " 'FSUHL.JPG',\n",
       " 'FSUHR.JPG',\n",
       " 'FSUS.JPG',\n",
       " 'MAFFL.JPG',\n",
       " 'MAFFR.JPG',\n",
       " 'MAFHL.JPG',\n",
       " 'MAFHR.JPG',\n",
       " 'MAFS.JPG',\n",
       " 'MANFL.JPG',\n",
       " 'MANFR.JPG',\n",
       " 'MANHL.JPG',\n",
       " 'MANHR.JPG',\n",
       " 'MANS.JPG',\n",
       " 'MDIFL.JPG',\n",
       " 'MDIFR.JPG',\n",
       " 'MDIHL.JPG',\n",
       " 'MDIHR.JPG',\n",
       " 'MDIS.JPG',\n",
       " 'MHAFL.JPG',\n",
       " 'MHAFR.JPG',\n",
       " 'MHAHL.JPG',\n",
       " 'MHAHR.JPG',\n",
       " 'MHAS.JPG',\n",
       " 'MNEFL.JPG',\n",
       " 'MNEFR.JPG',\n",
       " 'MNEHL.JPG',\n",
       " 'MNEHR.JPG',\n",
       " 'MNES.JPG',\n",
       " 'MSAFL.JPG',\n",
       " 'MSAFR.JPG',\n",
       " 'MSAHL.JPG',\n",
       " 'MSAHR.JPG',\n",
       " 'MSAS.JPG',\n",
       " 'MSUFL.JPG',\n",
       " 'MSUFR.JPG',\n",
       " 'MSUHL.JPG',\n",
       " 'MSUHR.JPG',\n",
       " 'MSUS.JPG']"
      ]
     },
     "execution_count": 9,
     "metadata": {},
     "output_type": "execute_result"
    }
   ],
   "source": [
    "import os\n",
    "\n",
    "os.listdir(\"D:\\AI Course\\AI Capstone Project\\KDEF_and_AKDEF\\KDEF_and_AKDEF\\AKDEF\")"
   ]
  },
  {
   "cell_type": "code",
   "execution_count": null,
   "metadata": {},
   "outputs": [],
   "source": []
  }
 ],
 "metadata": {
  "kernelspec": {
   "display_name": "Python 3",
   "language": "python",
   "name": "python3"
  },
  "language_info": {
   "codemirror_mode": {
    "name": "ipython",
    "version": 3
   },
   "file_extension": ".py",
   "mimetype": "text/x-python",
   "name": "python",
   "nbconvert_exporter": "python",
   "pygments_lexer": "ipython3",
   "version": "3.7.4"
  }
 },
 "nbformat": 4,
 "nbformat_minor": 4
}
